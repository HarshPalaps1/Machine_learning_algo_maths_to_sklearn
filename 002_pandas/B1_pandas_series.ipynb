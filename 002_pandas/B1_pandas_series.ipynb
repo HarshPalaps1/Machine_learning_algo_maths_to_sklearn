{
 "cells": [
  {
   "cell_type": "code",
   "execution_count": 1,
   "id": "a1da0150",
   "metadata": {},
   "outputs": [],
   "source": [
    "import pandas as pd"
   ]
  },
  {
   "cell_type": "code",
   "execution_count": 2,
   "id": "95a5ae9f",
   "metadata": {},
   "outputs": [
    {
     "data": {
      "text/plain": [
       "'1.4.2'"
      ]
     },
     "execution_count": 2,
     "metadata": {},
     "output_type": "execute_result"
    }
   ],
   "source": [
    "pd.__version__"
   ]
  },
  {
   "cell_type": "markdown",
   "id": "0bc4989f",
   "metadata": {},
   "source": [
    "# making own data "
   ]
  },
  {
   "cell_type": "code",
   "execution_count": 3,
   "id": "bc4194b3",
   "metadata": {},
   "outputs": [
    {
     "name": "stdout",
     "output_type": "stream",
     "text": [
      "[1, 2, 3, 'harsh', 'ben', 10]\n"
     ]
    }
   ],
   "source": [
    "list1=[1,2,3,\"harsh\",\"ben\",10]\n",
    "print(list1)"
   ]
  },
  {
   "cell_type": "markdown",
   "id": "d0543007",
   "metadata": {},
   "source": [
    "# making sersies to list"
   ]
  },
  {
   "cell_type": "code",
   "execution_count": 4,
   "id": "81530958",
   "metadata": {},
   "outputs": [
    {
     "name": "stdout",
     "output_type": "stream",
     "text": [
      "0        1\n",
      "1        2\n",
      "2        3\n",
      "3    harsh\n",
      "4      ben\n",
      "5       10\n",
      "dtype: object\n"
     ]
    }
   ],
   "source": [
    "series1=pd.Series(list1)\n",
    "print(series1)"
   ]
  },
  {
   "cell_type": "code",
   "execution_count": 5,
   "id": "d845af51",
   "metadata": {},
   "outputs": [
    {
     "name": "stdout",
     "output_type": "stream",
     "text": [
      "0     6\n",
      "1     7\n",
      "2     8\n",
      "3     9\n",
      "4    10\n",
      "5    11\n",
      "dtype: int64\n"
     ]
    }
   ],
   "source": [
    "series2=pd.Series([6,7,8,9,10,11])\n",
    "print(series2)"
   ]
  },
  {
   "cell_type": "code",
   "execution_count": 6,
   "id": "97c96dfc",
   "metadata": {},
   "outputs": [
    {
     "data": {
      "text/plain": [
       "pandas.core.series.Series"
      ]
     },
     "execution_count": 6,
     "metadata": {},
     "output_type": "execute_result"
    }
   ],
   "source": [
    "type(series1)"
   ]
  },
  {
   "cell_type": "markdown",
   "id": "da33dee8",
   "metadata": {},
   "source": [
    "# to create empty list"
   ]
  },
  {
   "cell_type": "code",
   "execution_count": 7,
   "id": "6f152139",
   "metadata": {},
   "outputs": [
    {
     "name": "stdout",
     "output_type": "stream",
     "text": [
      "Series([], dtype: float64)\n"
     ]
    },
    {
     "name": "stderr",
     "output_type": "stream",
     "text": [
      "C:\\Users\\pramo\\AppData\\Local\\Temp\\ipykernel_14188\\2823983443.py:1: FutureWarning: The default dtype for empty Series will be 'object' instead of 'float64' in a future version. Specify a dtype explicitly to silence this warning.\n",
      "  empty_s=pd.Series([])\n"
     ]
    }
   ],
   "source": [
    "empty_s=pd.Series([])\n",
    "print(empty_s)"
   ]
  },
  {
   "cell_type": "markdown",
   "id": "da87a2ca",
   "metadata": {},
   "source": [
    "# to change the index values"
   ]
  },
  {
   "cell_type": "markdown",
   "id": "fdd1835d",
   "metadata": {},
   "source": [
    "# modul.fuction(list,index=[values],dtype=any,name=\"any name\")"
   ]
  },
  {
   "cell_type": "code",
   "execution_count": 8,
   "id": "8e57836c",
   "metadata": {
    "scrolled": true
   },
   "outputs": [
    {
     "name": "stdout",
     "output_type": "stream",
     "text": [
      "a        1\n",
      "b        2\n",
      "c        3\n",
      "d    harsh\n",
      "e      ben\n",
      "f       10\n",
      "dtype: object\n"
     ]
    }
   ],
   "source": [
    "series3=pd.Series(list1,index=[\"a\",\"b\",\"c\",\"d\",\"e\",\"f\"])\n",
    "print(series3)"
   ]
  },
  {
   "cell_type": "code",
   "execution_count": 9,
   "id": "81b46304",
   "metadata": {},
   "outputs": [
    {
     "name": "stdout",
     "output_type": "stream",
     "text": [
      "a        1\n",
      "b        2\n",
      "c        3\n",
      "d    harsh\n",
      "e      ben\n",
      "f       10\n",
      "Name: table, dtype: object\n"
     ]
    }
   ],
   "source": [
    "series3=pd.Series(list1,index=[\"a\",\"b\",\"c\",\"d\",\"e\",\"f\"],name=\"table\")\n",
    "print(series3)"
   ]
  },
  {
   "cell_type": "markdown",
   "id": "2cc4dc66",
   "metadata": {},
   "source": [
    "# series from scalar value"
   ]
  },
  {
   "cell_type": "code",
   "execution_count": 10,
   "id": "51cff3b6",
   "metadata": {},
   "outputs": [
    {
     "name": "stdout",
     "output_type": "stream",
     "text": [
      "0    0.1\n",
      "dtype: float64\n"
     ]
    }
   ],
   "source": [
    "scalar1=pd.Series(0.1)\n",
    "print(scalar1)"
   ]
  },
  {
   "cell_type": "markdown",
   "id": "30d66c98",
   "metadata": {},
   "source": [
    "# or"
   ]
  },
  {
   "cell_type": "code",
   "execution_count": 11,
   "id": "0f763f7e",
   "metadata": {},
   "outputs": [
    {
     "name": "stdout",
     "output_type": "stream",
     "text": [
      "a    0.1\n",
      "b    0.1\n",
      "3    0.1\n",
      "dtype: float64\n"
     ]
    }
   ],
   "source": [
    "scalar1=pd.Series(0.1,index=[\"a\",\"b\",3])\n",
    "print(scalar1)"
   ]
  },
  {
   "cell_type": "markdown",
   "id": "463ffcde",
   "metadata": {},
   "source": [
    "# or"
   ]
  },
  {
   "cell_type": "code",
   "execution_count": 12,
   "id": "3e8bf141",
   "metadata": {},
   "outputs": [
    {
     "name": "stdout",
     "output_type": "stream",
     "text": [
      "A    1\n",
      "B    2\n",
      "C    3\n",
      "dtype: int64\n"
     ]
    }
   ],
   "source": [
    "scalar1=pd.Series({\"A\":1,\"B\":2,\"C\":3})\n",
    "print(scalar1)"
   ]
  },
  {
   "cell_type": "markdown",
   "id": "62d822e2",
   "metadata": {},
   "source": [
    "# making own data"
   ]
  },
  {
   "cell_type": "code",
   "execution_count": 13,
   "id": "a6907e13",
   "metadata": {},
   "outputs": [
    {
     "name": "stdout",
     "output_type": "stream",
     "text": [
      "0    1\n",
      "1    2\n",
      "2    3\n",
      "3    4\n",
      "4    5\n",
      "5    6\n",
      "dtype: int64\n"
     ]
    }
   ],
   "source": [
    "series3=pd.Series([1,2,3,4,5,6])\n",
    "print(series3)"
   ]
  },
  {
   "cell_type": "code",
   "execution_count": 14,
   "id": "97d32fc0",
   "metadata": {},
   "outputs": [
    {
     "data": {
      "text/plain": [
       "1"
      ]
     },
     "execution_count": 14,
     "metadata": {},
     "output_type": "execute_result"
    }
   ],
   "source": [
    "series3[0]"
   ]
  },
  {
   "cell_type": "markdown",
   "id": "f028f1d9",
   "metadata": {},
   "source": [
    "# slice"
   ]
  },
  {
   "cell_type": "code",
   "execution_count": 15,
   "id": "bf61c581",
   "metadata": {},
   "outputs": [
    {
     "data": {
      "text/plain": [
       "0    1\n",
       "1    2\n",
       "2    3\n",
       "dtype: int64"
      ]
     },
     "execution_count": 15,
     "metadata": {},
     "output_type": "execute_result"
    }
   ],
   "source": [
    "series3[0:3]"
   ]
  },
  {
   "cell_type": "markdown",
   "id": "61c4bf79",
   "metadata": {},
   "source": [
    "# max"
   ]
  },
  {
   "cell_type": "code",
   "execution_count": 16,
   "id": "0b68fe62",
   "metadata": {},
   "outputs": [
    {
     "data": {
      "text/plain": [
       "6"
      ]
     },
     "execution_count": 16,
     "metadata": {},
     "output_type": "execute_result"
    }
   ],
   "source": [
    "max(series3)"
   ]
  },
  {
   "cell_type": "code",
   "execution_count": 17,
   "id": "c09b34e1",
   "metadata": {},
   "outputs": [],
   "source": [
    "#greater than"
   ]
  },
  {
   "cell_type": "code",
   "execution_count": 18,
   "id": "6dbb769f",
   "metadata": {
    "scrolled": true
   },
   "outputs": [
    {
     "data": {
      "text/plain": [
       "3    4\n",
       "4    5\n",
       "5    6\n",
       "dtype: int64"
      ]
     },
     "execution_count": 18,
     "metadata": {},
     "output_type": "execute_result"
    }
   ],
   "source": [
    "series3[series3>3]"
   ]
  },
  {
   "cell_type": "markdown",
   "id": "77188237",
   "metadata": {},
   "source": [
    "# add"
   ]
  },
  {
   "cell_type": "code",
   "execution_count": 19,
   "id": "d8859cf7",
   "metadata": {},
   "outputs": [
    {
     "data": {
      "text/plain": [
       "0     7\n",
       "1     9\n",
       "2    11\n",
       "3    13\n",
       "4    15\n",
       "5    17\n",
       "dtype: int64"
      ]
     },
     "execution_count": 19,
     "metadata": {},
     "output_type": "execute_result"
    }
   ],
   "source": [
    "series2+series3"
   ]
  },
  {
   "cell_type": "code",
   "execution_count": null,
   "id": "acd362d4",
   "metadata": {},
   "outputs": [],
   "source": []
  }
 ],
 "metadata": {
  "kernelspec": {
   "display_name": "Python 3 (ipykernel)",
   "language": "python",
   "name": "python3"
  },
  "language_info": {
   "codemirror_mode": {
    "name": "ipython",
    "version": 3
   },
   "file_extension": ".py",
   "mimetype": "text/x-python",
   "name": "python",
   "nbconvert_exporter": "python",
   "pygments_lexer": "ipython3",
   "version": "3.9.12"
  }
 },
 "nbformat": 4,
 "nbformat_minor": 5
}
