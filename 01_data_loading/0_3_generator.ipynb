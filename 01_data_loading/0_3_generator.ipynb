{
 "cells": [
  {
   "cell_type": "code",
   "execution_count": 1,
   "id": "05bb255f",
   "metadata": {},
   "outputs": [],
   "source": [
    "from sklearn.datasets import make_regression"
   ]
  },
  {
   "cell_type": "markdown",
   "id": "b70ece66",
   "metadata": {},
   "source": [
    "# lets generates 100 sample with 5 features for a single lable regression "
   ]
  },
  {
   "cell_type": "code",
   "execution_count": 2,
   "id": "e60954e4",
   "metadata": {},
   "outputs": [],
   "source": [
    "x,y= make_regression(n_samples=100,n_features=5,n_targets=1,shuffle=True,random_state=42)"
   ]
  },
  {
   "cell_type": "code",
   "execution_count": 3,
   "id": "c78b4631",
   "metadata": {},
   "outputs": [
    {
     "data": {
      "text/plain": [
       "((100, 5), (100,))"
      ]
     },
     "execution_count": 3,
     "metadata": {},
     "output_type": "execute_result"
    }
   ],
   "source": [
    "x.shape,y.shape"
   ]
  },
  {
   "cell_type": "code",
   "execution_count": 4,
   "id": "04499bc5",
   "metadata": {},
   "outputs": [
    {
     "data": {
      "text/plain": [
       "array([[-0.93782504,  0.51504769,  0.51503527,  3.85273149,  0.51378595],\n",
       "       [ 1.0889506 , -0.71530371,  0.06428002,  0.67959775, -1.07774478],\n",
       "       [-0.60170661, -1.05771093,  1.85227818,  0.82254491, -0.01349722],\n",
       "       [ 0.8219025 ,  0.09176078,  0.08704707, -1.98756891, -0.29900735],\n",
       "       [ 1.54993441,  0.81351722, -0.78325329, -1.23086432, -0.32206152]])"
      ]
     },
     "execution_count": 4,
     "metadata": {},
     "output_type": "execute_result"
    }
   ],
   "source": [
    "x[:5]"
   ]
  },
  {
   "cell_type": "code",
   "execution_count": 5,
   "id": "a38f8c52",
   "metadata": {},
   "outputs": [
    {
     "data": {
      "text/plain": [
       "array([271.31612081,   6.2305406 ,  11.86102446, -63.94057571,\n",
       "        49.63008485])"
      ]
     },
     "execution_count": 5,
     "metadata": {},
     "output_type": "execute_result"
    }
   ],
   "source": [
    "y[:5]"
   ]
  },
  {
   "cell_type": "markdown",
   "id": "eaebe59a",
   "metadata": {},
   "source": [
    "# lets generates 100 sample with 5 features for a multiple lable regression "
   ]
  },
  {
   "cell_type": "code",
   "execution_count": 6,
   "id": "6bcbffdb",
   "metadata": {},
   "outputs": [],
   "source": [
    "x,y= make_regression(n_samples=100,n_features=5,n_targets=3,shuffle=True,random_state=42)"
   ]
  },
  {
   "cell_type": "code",
   "execution_count": 7,
   "id": "ed0625d9",
   "metadata": {},
   "outputs": [
    {
     "data": {
      "text/plain": [
       "((100, 5), (100, 3))"
      ]
     },
     "execution_count": 7,
     "metadata": {},
     "output_type": "execute_result"
    }
   ],
   "source": [
    "x.shape,y.shape"
   ]
  },
  {
   "cell_type": "code",
   "execution_count": 8,
   "id": "bf39279c",
   "metadata": {},
   "outputs": [
    {
     "data": {
      "text/plain": [
       "array([[  43.23360182,  -58.50953519,  -13.72212132],\n",
       "       [ 140.99273422,  131.68550855,   -1.37279066],\n",
       "       [ -78.67600239, -130.91843808,  -40.67533941],\n",
       "       [  72.82931333,  -22.09693144,   49.02923973],\n",
       "       [ 107.06382891,  116.03659298,   14.27368916]])"
      ]
     },
     "execution_count": 8,
     "metadata": {},
     "output_type": "execute_result"
    }
   ],
   "source": [
    "y[:5]"
   ]
  },
  {
   "cell_type": "code",
   "execution_count": 9,
   "id": "37433115",
   "metadata": {},
   "outputs": [
    {
     "data": {
      "text/plain": [
       "array([[-0.51386692, -0.93987979, -1.05921352,  0.66967255,  0.36659825],\n",
       "       [-1.05771093, -0.01349722,  0.82254491, -0.60170661,  1.85227818],\n",
       "       [ 0.32271856, -0.28865864, -0.82723094, -1.00252936, -0.01851314],\n",
       "       [ 2.09238728, -0.81822068, -1.00601738,  0.09699596,  0.59515703],\n",
       "       [ 0.44381943, -0.70766947,  0.77463405, -0.48423407,  1.26691115]])"
      ]
     },
     "execution_count": 9,
     "metadata": {},
     "output_type": "execute_result"
    }
   ],
   "source": [
    "x[:5]"
   ]
  },
  {
   "cell_type": "code",
   "execution_count": 10,
   "id": "7835d94d",
   "metadata": {},
   "outputs": [],
   "source": [
    "from sklearn.datasets import make_classification "
   ]
  },
  {
   "cell_type": "markdown",
   "id": "051ce820",
   "metadata": {},
   "source": [
    "# lets generates binary classification problem with 10 features 100 sample"
   ]
  },
  {
   "cell_type": "code",
   "execution_count": 11,
   "id": "6011c818",
   "metadata": {},
   "outputs": [],
   "source": [
    "x,y=make_classification(n_samples=100,n_features=10,n_classes=2,random_state=42)"
   ]
  },
  {
   "cell_type": "code",
   "execution_count": 12,
   "id": "55ae6ed5",
   "metadata": {},
   "outputs": [
    {
     "data": {
      "text/plain": [
       "((100, 10), (100,))"
      ]
     },
     "execution_count": 12,
     "metadata": {},
     "output_type": "execute_result"
    }
   ],
   "source": [
    "x.shape,y.shape"
   ]
  },
  {
   "cell_type": "markdown",
   "id": "38ef6b24",
   "metadata": {},
   "source": [
    "# lets generates multi classification problem with 10 features 100 sample"
   ]
  },
  {
   "cell_type": "code",
   "execution_count": 13,
   "id": "dc13ed3f",
   "metadata": {},
   "outputs": [],
   "source": [
    "from sklearn.datasets import make_multilabel_classification "
   ]
  },
  {
   "cell_type": "code",
   "execution_count": 14,
   "id": "a8dbd4ca",
   "metadata": {},
   "outputs": [],
   "source": [
    "X,Y=make_multilabel_classification(n_samples=100,n_features=20,n_classes=6,random_state=42)"
   ]
  },
  {
   "cell_type": "code",
   "execution_count": 15,
   "id": "26ddc10e",
   "metadata": {},
   "outputs": [
    {
     "data": {
      "text/plain": [
       "((100, 20), (100, 6))"
      ]
     },
     "execution_count": 15,
     "metadata": {},
     "output_type": "execute_result"
    }
   ],
   "source": [
    "X.shape,Y.shape"
   ]
  },
  {
   "cell_type": "code",
   "execution_count": 16,
   "id": "ca1ab25e",
   "metadata": {},
   "outputs": [],
   "source": [
    "a,b=make_multilabel_classification(n_samples=100,n_features=20,n_labels=6,random_state=42)"
   ]
  },
  {
   "cell_type": "code",
   "execution_count": 17,
   "id": "a089b78b",
   "metadata": {},
   "outputs": [
    {
     "data": {
      "text/plain": [
       "((100, 20), (100, 5))"
      ]
     },
     "execution_count": 17,
     "metadata": {},
     "output_type": "execute_result"
    }
   ],
   "source": [
    "a.shape,b.shape"
   ]
  },
  {
   "cell_type": "markdown",
   "id": "01941758",
   "metadata": {},
   "source": [
    "# let's make dataset of 10 samples with 2 features each for clustering "
   ]
  },
  {
   "cell_type": "code",
   "execution_count": 18,
   "id": "0cc95fa2",
   "metadata": {},
   "outputs": [],
   "source": [
    "from sklearn.datasets import make_blobs "
   ]
  },
  {
   "cell_type": "code",
   "execution_count": 20,
   "id": "cbefa6c9",
   "metadata": {},
   "outputs": [],
   "source": [
    "A,B=make_blobs(n_samples=10,centers=3,n_features=2,random_state=42)"
   ]
  },
  {
   "cell_type": "code",
   "execution_count": 21,
   "id": "c99ab9fa",
   "metadata": {},
   "outputs": [
    {
     "data": {
      "text/plain": [
       "((10, 2), (10,))"
      ]
     },
     "execution_count": 21,
     "metadata": {},
     "output_type": "execute_result"
    }
   ],
   "source": [
    "A.shape,B.shape"
   ]
  },
  {
   "cell_type": "code",
   "execution_count": null,
   "id": "6bbf1280",
   "metadata": {},
   "outputs": [],
   "source": []
  }
 ],
 "metadata": {
  "kernelspec": {
   "display_name": "Python 3 (ipykernel)",
   "language": "python",
   "name": "python3"
  },
  "language_info": {
   "codemirror_mode": {
    "name": "ipython",
    "version": 3
   },
   "file_extension": ".py",
   "mimetype": "text/x-python",
   "name": "python",
   "nbconvert_exporter": "python",
   "pygments_lexer": "ipython3",
   "version": "3.9.12"
  }
 },
 "nbformat": 4,
 "nbformat_minor": 5
}
