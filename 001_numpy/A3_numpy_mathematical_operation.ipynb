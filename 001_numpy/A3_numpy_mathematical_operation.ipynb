{
 "cells": [
  {
   "cell_type": "code",
   "execution_count": 2,
   "id": "a68d46f3",
   "metadata": {},
   "outputs": [],
   "source": [
    "import numpy as np"
   ]
  },
  {
   "cell_type": "code",
   "execution_count": 9,
   "id": "344cb13b",
   "metadata": {},
   "outputs": [
    {
     "name": "stdout",
     "output_type": "stream",
     "text": [
      "[[1 2 3]\n",
      " [4 5 6]\n",
      " [7 8 9]]\n",
      "[[10 11 12]\n",
      " [13 14 15]\n",
      " [16 17 18]]\n"
     ]
    }
   ],
   "source": [
    "arrA0=np.arange(1,10,dtype=int).reshape(3,3)\n",
    "arrB0=np.arange(10,19,dtype=int).reshape(3,3)\n",
    "print(arrA0)\n",
    "print(arrB0)"
   ]
  },
  {
   "cell_type": "markdown",
   "id": "bcd7ef22",
   "metadata": {},
   "source": [
    "# ADD"
   ]
  },
  {
   "cell_type": "code",
   "execution_count": 10,
   "id": "d4dd3c37",
   "metadata": {},
   "outputs": [
    {
     "data": {
      "text/plain": [
       "array([[11, 13, 15],\n",
       "       [17, 19, 21],\n",
       "       [23, 25, 27]])"
      ]
     },
     "execution_count": 10,
     "metadata": {},
     "output_type": "execute_result"
    }
   ],
   "source": [
    " arrB0 +arrA0"
   ]
  },
  {
   "cell_type": "code",
   "execution_count": 11,
   "id": "3e18cbbd",
   "metadata": {},
   "outputs": [
    {
     "data": {
      "text/plain": [
       "array([[11, 13, 15],\n",
       "       [17, 19, 21],\n",
       "       [23, 25, 27]])"
      ]
     },
     "execution_count": 11,
     "metadata": {},
     "output_type": "execute_result"
    }
   ],
   "source": [
    "np.add(arrB0,arrA0)"
   ]
  },
  {
   "cell_type": "markdown",
   "id": "25553b5e",
   "metadata": {},
   "source": [
    "# sub"
   ]
  },
  {
   "cell_type": "code",
   "execution_count": 12,
   "id": "b84a04d6",
   "metadata": {},
   "outputs": [
    {
     "data": {
      "text/plain": [
       "array([[-9, -9, -9],\n",
       "       [-9, -9, -9],\n",
       "       [-9, -9, -9]])"
      ]
     },
     "execution_count": 12,
     "metadata": {},
     "output_type": "execute_result"
    }
   ],
   "source": [
    "arrA0-arrB0"
   ]
  },
  {
   "cell_type": "code",
   "execution_count": 14,
   "id": "965b956d",
   "metadata": {},
   "outputs": [
    {
     "data": {
      "text/plain": [
       "array([[9, 9, 9],\n",
       "       [9, 9, 9],\n",
       "       [9, 9, 9]])"
      ]
     },
     "execution_count": 14,
     "metadata": {},
     "output_type": "execute_result"
    }
   ],
   "source": [
    "np.subtract(arrB0,arrA0)"
   ]
  },
  {
   "cell_type": "markdown",
   "id": "10d61be2",
   "metadata": {},
   "source": [
    "# DIVIDE"
   ]
  },
  {
   "cell_type": "code",
   "execution_count": 15,
   "id": "17332d28",
   "metadata": {},
   "outputs": [
    {
     "data": {
      "text/plain": [
       "array([[0.1       , 0.18181818, 0.25      ],\n",
       "       [0.30769231, 0.35714286, 0.4       ],\n",
       "       [0.4375    , 0.47058824, 0.5       ]])"
      ]
     },
     "execution_count": 15,
     "metadata": {},
     "output_type": "execute_result"
    }
   ],
   "source": [
    "np.divide(arrA0,arrB0)"
   ]
  },
  {
   "cell_type": "code",
   "execution_count": 16,
   "id": "63e34b46",
   "metadata": {},
   "outputs": [
    {
     "data": {
      "text/plain": [
       "array([[0.1       , 0.18181818, 0.25      ],\n",
       "       [0.30769231, 0.35714286, 0.4       ],\n",
       "       [0.4375    , 0.47058824, 0.5       ]])"
      ]
     },
     "execution_count": 16,
     "metadata": {},
     "output_type": "execute_result"
    }
   ],
   "source": [
    "arrA0/arrB0"
   ]
  },
  {
   "cell_type": "markdown",
   "id": "39dac7ab",
   "metadata": {},
   "source": [
    "# Element vice multiplication"
   ]
  },
  {
   "cell_type": "code",
   "execution_count": 17,
   "id": "d4b4835e",
   "metadata": {},
   "outputs": [
    {
     "data": {
      "text/plain": [
       "array([[ 10,  22,  36],\n",
       "       [ 52,  70,  90],\n",
       "       [112, 136, 162]])"
      ]
     },
     "execution_count": 17,
     "metadata": {},
     "output_type": "execute_result"
    }
   ],
   "source": [
    "arrA0*arrB0"
   ]
  },
  {
   "cell_type": "code",
   "execution_count": 18,
   "id": "6c265088",
   "metadata": {},
   "outputs": [
    {
     "data": {
      "text/plain": [
       "array([[ 10,  22,  36],\n",
       "       [ 52,  70,  90],\n",
       "       [112, 136, 162]])"
      ]
     },
     "execution_count": 18,
     "metadata": {},
     "output_type": "execute_result"
    }
   ],
   "source": [
    "np.multiply(arrA0,arrB0)"
   ]
  },
  {
   "cell_type": "markdown",
   "id": "00ddf90b",
   "metadata": {},
   "source": [
    "# Matrix multiplication"
   ]
  },
  {
   "cell_type": "code",
   "execution_count": 19,
   "id": "e7de1f3e",
   "metadata": {},
   "outputs": [
    {
     "data": {
      "text/plain": [
       "array([[ 84,  90,  96],\n",
       "       [201, 216, 231],\n",
       "       [318, 342, 366]])"
      ]
     },
     "execution_count": 19,
     "metadata": {},
     "output_type": "execute_result"
    }
   ],
   "source": [
    "arrA0@arrB0"
   ]
  },
  {
   "cell_type": "code",
   "execution_count": 21,
   "id": "d70ee996",
   "metadata": {},
   "outputs": [
    {
     "data": {
      "text/plain": [
       "array([[ 84,  90,  96],\n",
       "       [201, 216, 231],\n",
       "       [318, 342, 366]])"
      ]
     },
     "execution_count": 21,
     "metadata": {},
     "output_type": "execute_result"
    }
   ],
   "source": [
    "arrA0.dot(arrB0)"
   ]
  },
  {
   "cell_type": "markdown",
   "id": "a29a6dfd",
   "metadata": {},
   "source": [
    "# Find maximum"
   ]
  },
  {
   "cell_type": "code",
   "execution_count": 22,
   "id": "3e315a4b",
   "metadata": {},
   "outputs": [
    {
     "data": {
      "text/plain": [
       "9"
      ]
     },
     "execution_count": 22,
     "metadata": {},
     "output_type": "execute_result"
    }
   ],
   "source": [
    "arrA0.max()"
   ]
  },
  {
   "cell_type": "markdown",
   "id": "00ddafdc",
   "metadata": {},
   "source": [
    "# Finding the maximum value index"
   ]
  },
  {
   "cell_type": "code",
   "execution_count": 23,
   "id": "502090c1",
   "metadata": {},
   "outputs": [
    {
     "data": {
      "text/plain": [
       "8"
      ]
     },
     "execution_count": 23,
     "metadata": {},
     "output_type": "execute_result"
    }
   ],
   "source": [
    "arrA0.argmax()"
   ]
  },
  {
   "cell_type": "markdown",
   "id": "9debd841",
   "metadata": {},
   "source": [
    "# Maxmium value of column"
   ]
  },
  {
   "cell_type": "code",
   "execution_count": 25,
   "id": "c7724fd6",
   "metadata": {},
   "outputs": [
    {
     "data": {
      "text/plain": [
       "array([16, 17, 18])"
      ]
     },
     "execution_count": 25,
     "metadata": {},
     "output_type": "execute_result"
    }
   ],
   "source": [
    "arrB0.max(axis=0)"
   ]
  },
  {
   "cell_type": "markdown",
   "id": "8a8ff937",
   "metadata": {},
   "source": [
    "# Maxmium value of row wise"
   ]
  },
  {
   "cell_type": "code",
   "execution_count": 26,
   "id": "210f5f1d",
   "metadata": {},
   "outputs": [
    {
     "data": {
      "text/plain": [
       "array([12, 15, 18])"
      ]
     },
     "execution_count": 26,
     "metadata": {},
     "output_type": "execute_result"
    }
   ],
   "source": [
    "arrB0.max(axis=1)"
   ]
  },
  {
   "cell_type": "markdown",
   "id": "606503a7",
   "metadata": {},
   "source": [
    "# Minimium value of row wise"
   ]
  },
  {
   "cell_type": "code",
   "execution_count": 29,
   "id": "c36acbdf",
   "metadata": {},
   "outputs": [
    {
     "data": {
      "text/plain": [
       "array([1, 4, 7])"
      ]
     },
     "execution_count": 29,
     "metadata": {},
     "output_type": "execute_result"
    }
   ],
   "source": [
    "arrA0.min(axis=1)"
   ]
  },
  {
   "cell_type": "markdown",
   "id": "a650bed2",
   "metadata": {},
   "source": [
    "# Minimium value of column  wise"
   ]
  },
  {
   "cell_type": "code",
   "execution_count": 31,
   "id": "a9d58897",
   "metadata": {},
   "outputs": [
    {
     "data": {
      "text/plain": [
       "array([1, 2, 3])"
      ]
     },
     "execution_count": 31,
     "metadata": {},
     "output_type": "execute_result"
    }
   ],
   "source": [
    "arrA0.min(axis=0)"
   ]
  },
  {
   "cell_type": "markdown",
   "id": "f55729ed",
   "metadata": {},
   "source": [
    "# Finding the minimum value index"
   ]
  },
  {
   "cell_type": "code",
   "execution_count": 33,
   "id": "a1ce1118",
   "metadata": {},
   "outputs": [
    {
     "data": {
      "text/plain": [
       "0"
      ]
     },
     "execution_count": 33,
     "metadata": {},
     "output_type": "execute_result"
    }
   ],
   "source": [
    "arrB0.argmin()"
   ]
  },
  {
   "cell_type": "markdown",
   "id": "a5355d54",
   "metadata": {},
   "source": [
    "# sum of each value of matrix"
   ]
  },
  {
   "cell_type": "code",
   "execution_count": 34,
   "id": "7d90d252",
   "metadata": {},
   "outputs": [
    {
     "data": {
      "text/plain": [
       "45"
      ]
     },
     "execution_count": 34,
     "metadata": {},
     "output_type": "execute_result"
    }
   ],
   "source": [
    "np.sum(arrA0)"
   ]
  },
  {
   "cell_type": "markdown",
   "id": "059abb93",
   "metadata": {},
   "source": [
    "# sum of each column wise  values of matrix"
   ]
  },
  {
   "cell_type": "code",
   "execution_count": 35,
   "id": "d84fcb00",
   "metadata": {},
   "outputs": [
    {
     "data": {
      "text/plain": [
       "array([12, 15, 18])"
      ]
     },
     "execution_count": 35,
     "metadata": {},
     "output_type": "execute_result"
    }
   ],
   "source": [
    "np.sum(arrA0,axis=0)"
   ]
  },
  {
   "cell_type": "markdown",
   "id": "20933285",
   "metadata": {},
   "source": [
    "# sum of each values row wise values of matrix"
   ]
  },
  {
   "cell_type": "code",
   "execution_count": 36,
   "id": "1d70597c",
   "metadata": {},
   "outputs": [
    {
     "data": {
      "text/plain": [
       "array([ 6, 15, 24])"
      ]
     },
     "execution_count": 36,
     "metadata": {},
     "output_type": "execute_result"
    }
   ],
   "source": [
    "np.sum(arrA0,axis=1)"
   ]
  },
  {
   "cell_type": "markdown",
   "id": "3702a956",
   "metadata": {},
   "source": [
    "# mean of  values of matrix"
   ]
  },
  {
   "cell_type": "code",
   "execution_count": 38,
   "id": "25f92eeb",
   "metadata": {},
   "outputs": [
    {
     "data": {
      "text/plain": [
       "14.0"
      ]
     },
     "execution_count": 38,
     "metadata": {},
     "output_type": "execute_result"
    }
   ],
   "source": [
    "np.mean(arrB0)"
   ]
  },
  {
   "cell_type": "markdown",
   "id": "d21789cc",
   "metadata": {},
   "source": [
    "# square root of each value of matrix"
   ]
  },
  {
   "cell_type": "code",
   "execution_count": 40,
   "id": "4733bc88",
   "metadata": {},
   "outputs": [
    {
     "data": {
      "text/plain": [
       "array([[3.16227766, 3.31662479, 3.46410162],\n",
       "       [3.60555128, 3.74165739, 3.87298335],\n",
       "       [4.        , 4.12310563, 4.24264069]])"
      ]
     },
     "execution_count": 40,
     "metadata": {},
     "output_type": "execute_result"
    }
   ],
   "source": [
    "np.sqrt(arrB0)"
   ]
  },
  {
   "cell_type": "markdown",
   "id": "305fa185",
   "metadata": {},
   "source": [
    "# Standart division root of each value of matrix"
   ]
  },
  {
   "cell_type": "code",
   "execution_count": 42,
   "id": "0419222f",
   "metadata": {},
   "outputs": [
    {
     "data": {
      "text/plain": [
       "2.581988897471611"
      ]
     },
     "execution_count": 42,
     "metadata": {},
     "output_type": "execute_result"
    }
   ],
   "source": [
    "np.std(arrB0)"
   ]
  },
  {
   "cell_type": "markdown",
   "id": "9cd703b0",
   "metadata": {},
   "source": [
    "# exponent root of each value of matrix"
   ]
  },
  {
   "cell_type": "code",
   "execution_count": 43,
   "id": "438c2afa",
   "metadata": {},
   "outputs": [
    {
     "data": {
      "text/plain": [
       "array([[2.20264658e+04, 5.98741417e+04, 1.62754791e+05],\n",
       "       [4.42413392e+05, 1.20260428e+06, 3.26901737e+06],\n",
       "       [8.88611052e+06, 2.41549528e+07, 6.56599691e+07]])"
      ]
     },
     "execution_count": 43,
     "metadata": {},
     "output_type": "execute_result"
    }
   ],
   "source": [
    "np.exp(arrB0)"
   ]
  },
  {
   "cell_type": "markdown",
   "id": "89c00561",
   "metadata": {},
   "source": [
    "# log  of each value of matrix"
   ]
  },
  {
   "cell_type": "code",
   "execution_count": 44,
   "id": "74f01b3b",
   "metadata": {},
   "outputs": [
    {
     "data": {
      "text/plain": [
       "array([[2.30258509, 2.39789527, 2.48490665],\n",
       "       [2.56494936, 2.63905733, 2.7080502 ],\n",
       "       [2.77258872, 2.83321334, 2.89037176]])"
      ]
     },
     "execution_count": 44,
     "metadata": {},
     "output_type": "execute_result"
    }
   ],
   "source": [
    "np.log(arrB0)"
   ]
  },
  {
   "cell_type": "code",
   "execution_count": null,
   "id": "b111b4b8",
   "metadata": {},
   "outputs": [],
   "source": []
  }
 ],
 "metadata": {
  "kernelspec": {
   "display_name": "Python 3 (ipykernel)",
   "language": "python",
   "name": "python3"
  },
  "language_info": {
   "codemirror_mode": {
    "name": "ipython",
    "version": 3
   },
   "file_extension": ".py",
   "mimetype": "text/x-python",
   "name": "python",
   "nbconvert_exporter": "python",
   "pygments_lexer": "ipython3",
   "version": "3.9.12"
  }
 },
 "nbformat": 4,
 "nbformat_minor": 5
}
