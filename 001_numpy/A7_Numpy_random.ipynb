{
 "cells": [
  {
   "cell_type": "code",
   "execution_count": 1,
   "id": "3d1c5f79",
   "metadata": {},
   "outputs": [],
   "source": [
    "import numpy as np\n",
    "import random "
   ]
  },
  {
   "cell_type": "markdown",
   "id": "9bb42afe",
   "metadata": {},
   "source": [
    "# random"
   ]
  },
  {
   "cell_type": "code",
   "execution_count": 2,
   "id": "767b94e6",
   "metadata": {},
   "outputs": [
    {
     "data": {
      "text/plain": [
       "array([0.01366557])"
      ]
     },
     "execution_count": 2,
     "metadata": {},
     "output_type": "execute_result"
    }
   ],
   "source": [
    "#np.module.function(int for 1 element)\n",
    "#random for less then 1 value\n",
    "np.random.random(1)"
   ]
  },
  {
   "cell_type": "code",
   "execution_count": 3,
   "id": "e7ccd0f6",
   "metadata": {},
   "outputs": [
    {
     "data": {
      "text/plain": [
       "array([[0.54773275, 0.46640787, 0.3867984 ],\n",
       "       [0.4162412 , 0.76938225, 0.68034222],\n",
       "       [0.54147419, 0.45318388, 0.92627073]])"
      ]
     },
     "execution_count": 3,
     "metadata": {},
     "output_type": "execute_result"
    }
   ],
   "source": [
    "#np.module.function(tuple for matrix)\n",
    "#random for less then 1 value\n",
    "np.random.random((3,3))"
   ]
  },
  {
   "cell_type": "markdown",
   "id": "19b77e49",
   "metadata": {},
   "source": [
    "# randint"
   ]
  },
  {
   "cell_type": "code",
   "execution_count": 4,
   "id": "f0344a50",
   "metadata": {},
   "outputs": [
    {
     "data": {
      "text/plain": [
       "3"
      ]
     },
     "execution_count": 4,
     "metadata": {},
     "output_type": "execute_result"
    }
   ],
   "source": [
    "#np.module.function(range start ,range end ,size tuple  for matrix)\n",
    "#randint for integer value\n",
    "np.random.randint(1,4)"
   ]
  },
  {
   "cell_type": "code",
   "execution_count": 5,
   "id": "afe942af",
   "metadata": {},
   "outputs": [
    {
     "data": {
      "text/plain": [
       "array([[1, 3, 4],\n",
       "       [2, 4, 4],\n",
       "       [1, 4, 3]])"
      ]
     },
     "execution_count": 5,
     "metadata": {},
     "output_type": "execute_result"
    }
   ],
   "source": [
    "# np.module.function(range start ,range end ,size tuple  for matrix)\n",
    "#randint for integer value\n",
    "np.random.randint(1,5,(3,3))"
   ]
  },
  {
   "cell_type": "markdown",
   "id": "99ee1eb6",
   "metadata": {},
   "source": [
    "# rand"
   ]
  },
  {
   "cell_type": "code",
   "execution_count": 6,
   "id": "24fa1388",
   "metadata": {},
   "outputs": [
    {
     "data": {
      "text/plain": [
       "array([0.03609826, 0.49887914, 0.94523836, 0.87032384])"
      ]
     },
     "execution_count": 6,
     "metadata": {},
     "output_type": "execute_result"
    }
   ],
   "source": [
    "#rand for get array of  values less then 1\n",
    "#np.module.function(num of ele in array)\n",
    "np.random.rand(4)"
   ]
  },
  {
   "cell_type": "code",
   "execution_count": 7,
   "id": "984d6903",
   "metadata": {},
   "outputs": [
    {
     "data": {
      "text/plain": [
       "array([[0.58335064, 0.93755983],\n",
       "       [0.73341551, 0.60134908],\n",
       "       [0.27050368, 0.00893733],\n",
       "       [0.70089534, 0.13862946]])"
      ]
     },
     "execution_count": 7,
     "metadata": {},
     "output_type": "execute_result"
    }
   ],
   "source": [
    "#rand for get array of  values less then 1\n",
    "#np.module.function(num of ele in row,num of ele in col)\n",
    "np.random.rand(4,2)"
   ]
  },
  {
   "cell_type": "markdown",
   "id": "b3f7bd09",
   "metadata": {},
   "source": [
    "# choice"
   ]
  },
  {
   "cell_type": "code",
   "execution_count": 8,
   "id": "489dc9cd",
   "metadata": {},
   "outputs": [
    {
     "data": {
      "text/plain": [
       "23424"
      ]
     },
     "execution_count": 8,
     "metadata": {},
     "output_type": "execute_result"
    }
   ],
   "source": [
    "from_this=[32,2324,234234,23423,23424]\n",
    "np.random.choice(from_this)"
   ]
  },
  {
   "cell_type": "code",
   "execution_count": null,
   "id": "9f13a64f",
   "metadata": {},
   "outputs": [],
   "source": []
  }
 ],
 "metadata": {
  "kernelspec": {
   "display_name": "Python 3 (ipykernel)",
   "language": "python",
   "name": "python3"
  },
  "language_info": {
   "codemirror_mode": {
    "name": "ipython",
    "version": 3
   },
   "file_extension": ".py",
   "mimetype": "text/x-python",
   "name": "python",
   "nbconvert_exporter": "python",
   "pygments_lexer": "ipython3",
   "version": "3.9.12"
  }
 },
 "nbformat": 4,
 "nbformat_minor": 5
}
